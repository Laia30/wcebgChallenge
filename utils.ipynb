{
  "nbformat": 4,
  "nbformat_minor": 0,
  "metadata": {
    "colab": {
      "provenance": []
    },
    "kernelspec": {
      "name": "python3",
      "display_name": "Python 3"
    },
    "language_info": {
      "name": "python"
    }
  },
  "cells": [
    {
      "cell_type": "code",
      "execution_count": null,
      "metadata": {
        "id": "apeg07BtKyja"
      },
      "outputs": [],
      "source": [
        "#augmentation code\n",
        "def data_augmen2(image):\n",
        "    p_spatial = tf.random.uniform([], 0, 1.0, dtype = tf.float32)\n",
        "    p_rotate = tf.random.uniform([], 0, 1.0, dtype = tf.float32)\n",
        "    p_pixel_1 = tf.random.uniform([], 0, 1.0, dtype = tf.float32)\n",
        "    p_pixel_2 = tf.random.uniform([], 0, 1.0, dtype = tf.float32)\n",
        "    p_pixel_3 = tf.random.uniform([], 0, 1.0, dtype = tf.float32)\n",
        "\n",
        "    # Flips\n",
        "    image = tf.image.random_flip_left_right(image)\n",
        "    image = tf.image.random_flip_up_down(image)\n",
        "\n",
        "    if p_spatial > .75:\n",
        "        image = tf.image.transpose(image)\n",
        "\n",
        "    # Rotates\n",
        "    if p_rotate > .75:\n",
        "        image = tf.image.rot90(image, k = 3) # rotate 270º\n",
        "    elif p_rotate > .5:\n",
        "        image = tf.image.rot90(image, k = 2) # rotate 180º\n",
        "    elif p_rotate > .25:\n",
        "        image = tf.image.rot90(image, k = 1) # rotate 90º\n",
        "\n",
        "    # Pixel-level transforms\n",
        "    if p_pixel_1 >= .4:\n",
        "        image = tf.image.random_saturation(image, lower = .7, upper = 1.3)\n",
        "    if p_pixel_2 >= .4:\n",
        "        image = tf.image.random_contrast(image, lower = .8, upper = 1.2)\n",
        "    if p_pixel_3 >= .4:\n",
        "        image = tf.image.random_brightness(image, max_delta = .1)\n",
        "\n",
        "    return image"
      ]
    }
  ]
}