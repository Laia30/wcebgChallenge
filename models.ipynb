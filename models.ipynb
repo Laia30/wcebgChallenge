{
  "nbformat": 4,
  "nbformat_minor": 0,
  "metadata": {
    "colab": {
      "provenance": []
    },
    "kernelspec": {
      "name": "python3",
      "display_name": "Python 3"
    },
    "language_info": {
      "name": "python"
    }
  },
  "cells": [
    {
      "cell_type": "code",
      "execution_count": null,
      "metadata": {
        "id": "cWBdqFo0LWkk"
      },
      "outputs": [],
      "source": [
        "net1 = EfficientNetB2(include_top = False , input_shape = (224,224,3),weights='imagenet')\n",
        "for layer in net1.layers :\n",
        "    layer.trainable = True\n",
        "ES = tf.keras.callbacks.EarlyStopping(\n",
        "    patience = 10,\n",
        "    min_delta = 0.01,\n",
        "    verbose = 0\n",
        ")\n",
        "\n",
        "\n",
        "model = tf.keras.Sequential([\n",
        "    net1,\n",
        "    tf.keras.layers.Conv2D(32, (3, 3), activation='relu', input_shape=(224, 224, 3), padding='same'),\n",
        "    tf.keras.layers.BatchNormalization(),\n",
        "\n",
        "    tf.keras.layers.MaxPooling2D(pool_size=(2, 2)),\n",
        "\n",
        "    tf.keras.layers.Conv2D(32, (3, 3), activation='relu', padding='same'),\n",
        "    tf.keras.layers.BatchNormalization(),\n",
        "\n",
        "    tf.keras.layers.MaxPooling2D(pool_size=(2, 2)),\n",
        "\n",
        "    tf.keras.layers.Conv2D(64, (3, 3), activation='relu', padding='same'),\n",
        "    #tf.keras.layers.BatchNormalization(), new below\n",
        "\n",
        "\n",
        "    tf.keras.layers.GlobalAveragePooling2D(),  # Global Average Pooling instead of Flatten\n",
        "    #tf.keras.layers.Dropout(0.4),  # Add dropout layer (40% dropout rate)\n",
        "\n",
        "    tf.keras.layers.Flatten(),\n",
        "    tf.keras.layers.Dense(128, activation='relu'),\n",
        "    #tf.keras.layers.BatchNormalization(),\n",
        "\n",
        "    #tf.keras.layers.Dropout(0.5),  # Add dropout layer (50% dropout rate)\n",
        "\n",
        "    tf.keras.layers.Dense(2, activation='sigmoid')\n",
        "], name='model_1')\n",
        "\n",
        "\n",
        "#model.summary()\n",
        "learning_rate = 1e-5\n",
        "accuracy_threshold = 0.5\n",
        "optimizer = tfa.optimizers.RectifiedAdam(learning_rate = learning_rate)\n",
        "\n",
        "\n",
        "\n"
      ]
    }
  ]
}